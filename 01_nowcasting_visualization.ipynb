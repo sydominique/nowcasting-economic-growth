{
 "cells": [
  {
   "cell_type": "markdown",
   "metadata": {},
   "source": [
    "# Data Visualization"
   ]
  },
  {
   "cell_type": "code",
   "execution_count": null,
   "metadata": {},
   "outputs": [],
   "source": [
    "import pandas as pd\n",
    "import numpy as np\n",
    "import matplotlib.pyplot as plt\n",
    "from matplotlib import rcParams\n",
    "import seaborn as sns\n",
    "from pytrends.request import TrendReq\n",
    "import pytrends\n",
    "import statsmodels.api as sm\n",
    "import os\n",
    "from tqdm.notebook import tqdm"
   ]
  },
  {
   "cell_type": "code",
   "execution_count": null,
   "metadata": {},
   "outputs": [],
   "source": [
    "pd.set_option('display.max_columns', 50)\n",
    "pd.set_option('display.max_rows', 100)"
   ]
  },
  {
   "cell_type": "markdown",
   "metadata": {},
   "source": [
    "## Search Trends Data"
   ]
  },
  {
   "cell_type": "code",
   "execution_count": null,
   "metadata": {},
   "outputs": [],
   "source": [
    "import seaborn as sns\n",
    "fig_dims = (8, 4)\n",
    "dpi = 300\n",
    "fig, ax = plt.subplots(figsize=fig_dims, dpi=dpi)\n",
    "\n",
    "sns.lineplot(data=result[\n",
    "    ['Card', 'Banking', 'Automobiles', 'Phones', 'Mobility', 'Restaurant']])\n",
    "plt.suptitle('Google Trends')\n",
    "# plt.savefig()"
   ]
  },
  {
   "cell_type": "code",
   "execution_count": null,
   "metadata": {
    "scrolled": true
   },
   "outputs": [],
   "source": [
    "result['year'] = [d.year for d in result.index]\n",
    "result['month'] = [d.month for d in result.index]\n",
    "# years = df['year'].unique()\n",
    "\n",
    "country = 'Taiwan'\n",
    "y = 'Restaurant'\n",
    "\n",
    "# Draw Plot\n",
    "fig, axes = plt.subplots(1, 2, figsize=(20, 6), dpi=200)\n",
    "sns.boxplot(x='year', y=y, data=result['2012':'2019'], ax=axes[0])\n",
    "sns.boxplot(x='month', y=y, data=result['2012':'2019'])\n",
    "\n",
    "# Set Title\n",
    "axes[0].set_title('Year-wise Box Plot', fontsize=18)\n",
    "axes[1].set_title('Month-wise Box Plot', fontsize=18)\n",
    "fig.suptitle(country, fontsize=24)\n",
    "plt.show()\n",
    "\n",
    "fig.savefig('hi.png')"
   ]
  },
  {
   "cell_type": "code",
   "execution_count": null,
   "metadata": {
    "scrolled": true
   },
   "outputs": [],
   "source": [
    "result.head()"
   ]
  }
 ],
 "metadata": {
  "kernelspec": {
   "display_name": "Python 3",
   "language": "python",
   "name": "python3"
  },
  "toc": {
   "base_numbering": 1,
   "nav_menu": {},
   "number_sections": true,
   "sideBar": true,
   "skip_h1_title": false,
   "title_cell": "Table of Contents",
   "title_sidebar": "Contents",
   "toc_cell": false,
   "toc_position": {},
   "toc_section_display": true,
   "toc_window_display": false
  },
  "varInspector": {
   "cols": {
    "lenName": 16,
    "lenType": 16,
    "lenVar": 40
   },
   "kernels_config": {
    "python": {
     "delete_cmd_postfix": "",
     "delete_cmd_prefix": "del ",
     "library": "var_list.py",
     "varRefreshCmd": "print(var_dic_list())"
    },
    "r": {
     "delete_cmd_postfix": ") ",
     "delete_cmd_prefix": "rm(",
     "library": "var_list.r",
     "varRefreshCmd": "cat(var_dic_list()) "
    }
   },
   "types_to_exclude": [
    "module",
    "function",
    "builtin_function_or_method",
    "instance",
    "_Feature"
   ],
   "window_display": false
  }
 },
 "nbformat": 4,
 "nbformat_minor": 2
}
