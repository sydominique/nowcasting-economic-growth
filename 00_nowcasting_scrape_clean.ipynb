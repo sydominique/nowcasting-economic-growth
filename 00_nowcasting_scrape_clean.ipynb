{
 "cells": [
  {
   "cell_type": "markdown",
   "metadata": {
    "hide_input": false
   },
   "source": [
    "# Data Gathering and Preprocessing"
   ]
  },
  {
   "cell_type": "markdown",
   "metadata": {},
   "source": [
    "## Preliminaries"
   ]
  },
  {
   "cell_type": "code",
   "execution_count": 1,
   "metadata": {},
   "outputs": [],
   "source": [
    "import os\n",
    "import pandas as pd\n",
    "from pytrends.request import TrendReq\n",
    "import pytrends\n",
    "from tqdm.notebook import tqdm"
   ]
  },
  {
   "cell_type": "code",
   "execution_count": 2,
   "metadata": {},
   "outputs": [],
   "source": [
    "path = 'C:\\\\Users\\\\Dominique\\\\Documents\\\\Work\\\\ADB\\\\Nowcasting\\\\Data'\n",
    "os.chdir(path)"
   ]
  },
  {
   "cell_type": "markdown",
   "metadata": {},
   "source": [
    "## Scraping Google Trends data"
   ]
  },
  {
   "cell_type": "markdown",
   "metadata": {},
   "source": [
    "We define a few helper functions, <code>topic_mapper()</code> and <code>scrape_trends</code> for obtaining Google Trends search data. "
   ]
  },
  {
   "cell_type": "code",
   "execution_count": 3,
   "metadata": {},
   "outputs": [],
   "source": [
    "def topic_mapper(terms, types):\n",
    "    \"\"\"\n",
    "    Map overarching topics for given search terms as well as associated suggestions.\n",
    "    \"\"\"\n",
    "    keywords = []\n",
    "    titles = []\n",
    "    trend = TrendReq()\n",
    "    for term in terms:\n",
    "        l = trend.suggestions(term)\n",
    "        keywords.append([\n",
    "            d['mid'] for d in l\n",
    "            if d['type'] in types\n",
    "        ])\n",
    "        titles.append([\n",
    "            d['title'] for d in l\n",
    "            if d['type'] in types\n",
    "        ])\n",
    "    keywords = [key for sublist in keywords for key in sublist]\n",
    "    titles = [key for sublist in titles for key in sublist]\n",
    "    mapping = dict(zip(keywords, titles))\n",
    "    return mapping"
   ]
  },
  {
   "cell_type": "code",
   "execution_count": 4,
   "metadata": {
    "scrolled": true
   },
   "outputs": [],
   "source": [
    "def scrape_trends(countries, mapping, time):\n",
    "    \"\"\"\n",
    "    Scrape search volume intensity for specified countries based on topic mapping. Save results as .csv file. \n",
    "    \"\"\"\n",
    "    trend = TrendReq()\n",
    "\n",
    "    for country in tqdm(countries):\n",
    "        dataset = []\n",
    "        for x, v in tqdm(mapping.items()):\n",
    "            #     for x in tqdm(range(0,len(keywords))):\n",
    "            #         kw = [keywords[x]]\n",
    "            kw = [str(x)]\n",
    "            trend.build_payload(kw_list=kw, timeframe=time, geo=country)\n",
    "            data = trend.interest_over_time()\n",
    "            if not data.empty:\n",
    "                data = data.drop(labels=['isPartial'], axis='columns')\n",
    "                dataset.append(data)\n",
    "        \n",
    "        result = pd.concat(dataset, axis=1)\n",
    "        result.rename(columns=mapping, inplace=True)\n",
    "        file_name = str(country) + \"_search_trends.csv\"\n",
    "        result.to_csv(file_name)"
   ]
  },
  {
   "cell_type": "markdown",
   "metadata": {},
   "source": [
    "We now define the search terms that we are interested in. The <code>topic_mapper()</code> function automatically gets Google's suggestions, which are categorized into types. For this research, we use the following types:\n",
    "\n",
    "1. **Topic**: The overarching search term, which has a non-intuitive tag (i.e. <code>/m/0d7pp</code> is the topic for all 'credit card'-related searches).\n",
    "2. **Transportation mode**: This is relevant for flights and automotives, since we are not interested in, say, scientific research about automotive or flights.\n",
    "3. **Website**: This is to capture search data for travel-related websites such as Airbnb, booking.com, and others."
   ]
  },
  {
   "cell_type": "code",
   "execution_count": 5,
   "metadata": {},
   "outputs": [],
   "source": [
    "terms = [\n",
    "    'Credit card', 'Banking', 'Online hotel reservations', 'Restaurant',\n",
    "    'Flights', 'Mobile phone', 'Automotive industry', 'Travel'\n",
    "]\n",
    "types = ['Topic', 'Transportation mode', 'Website']\n",
    "\n",
    "mapping = topic_mapper(terms, types)"
   ]
  },
  {
   "cell_type": "markdown",
   "metadata": {},
   "source": [
    "Using the <code> scrape_trends()</code> function we defined above, this snippet scrapes and downloads the search trend information for the specified countries. We use only information from 2011 onwards, as the search data are more reliable from that point onwards since Google changed their data collection system. "
   ]
  },
  {
   "cell_type": "code",
   "execution_count": null,
   "metadata": {},
   "outputs": [],
   "source": [
    "countries = ['AU', 'CN', 'ID', 'IN', 'JP', 'KR', 'MM', 'MY', 'NZ', 'PH', 'SG', 'TH', 'TW', 'VN']\n",
    "time = '2011-01-01 2020-06-01'\n",
    "\n",
    "scrape_trends(countries, mapping, time)"
   ]
  },
  {
   "cell_type": "markdown",
   "metadata": {},
   "source": [
    "## Data Cleaning and Merging"
   ]
  },
  {
   "cell_type": "code",
   "execution_count": 10,
   "metadata": {},
   "outputs": [],
   "source": [
    "iso = pd.read_excel(path + '\\iso_codes.xlsx', header=0)\n",
    "iso_dict = dict(zip(iso['Alpha-3 code'], iso['Alpha-2 code']))\n",
    "\n",
    "# renaming to uniform ISO 3-codes\n",
    "for key, value in iso_dict.items():\n",
    "    if os.path.isfile(key + ' PMI.xlsx'):\n",
    "        os.rename(key + ' PMI.xlsx', value + ' PMI.xlsx')"
   ]
  },
  {
   "cell_type": "code",
   "execution_count": 29,
   "metadata": {},
   "outputs": [],
   "source": [
    "df = pd.read_excel(\n",
    "    r'C:\\Users\\Dominique\\Documents\\Work\\ADB\\Nowcasting\\Data\\TW PMI.xlsx',\n",
    "    skiprows=range(1, 26),\n",
    "    names=['Date', 'PMI'],\n",
    "    usecols=[0, 1],\n",
    "    parse_dates=True)"
   ]
  },
  {
   "cell_type": "code",
   "execution_count": 33,
   "metadata": {},
   "outputs": [],
   "source": [
    "df.index = pd.DatetimeIndex(df.Date)"
   ]
  },
  {
   "cell_type": "code",
   "execution_count": 34,
   "metadata": {},
   "outputs": [
    {
     "data": {
      "text/plain": [
       "<matplotlib.axes._subplots.AxesSubplot at 0x299162c4278>"
      ]
     },
     "execution_count": 34,
     "metadata": {},
     "output_type": "execute_result"
    },
    {
     "data": {
      "image/png": "[encoded data removed]",
      "text/plain": [
       "<Figure size 432x288 with 1 Axes>"
      ]
     },
     "metadata": {},
     "output_type": "display_data"
    }
   ],
   "source": [
    "df.PMI.plot()"
   ]
  },
  {
   "cell_type": "code",
   "execution_count": null,
   "metadata": {},
   "outputs": [],
   "source": [
    "result['Card'] = result[[\n",
    "    'Credit card', 'Cashback reward program', 'Credit card debt'\n",
    "]].mean(axis=1)\n",
    "\n",
    "result['Banking'] = result[[\n",
    "    'Investment banking', 'Mobile banking', 'Private banking'\n",
    "]].mean(axis=1)\n",
    "\n",
    "result['Hotels'] = result[[\n",
    "    'Online hotel reservations', 'The Leading Hotels of the World'\n",
    "]].mean(axis=1)\n",
    "\n",
    "result['Automobiles'] = result[['Automotive industry', 'Car']].mean(axis=1)\n",
    "\n",
    "result['Phones'] = result[['Mobile phone',\n",
    "                           'Mobile phone accessories']].mean(axis=1)\n",
    "\n",
    "result['Mobility'] = result[[\n",
    "    'Google Flights', 'Travel', 'Tourism', 'Travel visa', 'Business travel'\n",
    "]].mean(axis=1)"
   ]
  }
 ],
 "metadata": {
  "kernelspec": {
   "display_name": "Python 3",
   "language": "python",
   "name": "python3"
  },
  "language_info": {
   "codemirror_mode": {
    "name": "ipython",
    "version": 3
   },
   "file_extension": ".py",
   "mimetype": "text/x-python",
   "name": "python",
   "nbconvert_exporter": "python",
   "pygments_lexer": "ipython3",
   "version": "3.6.5"
  },
  "toc": {
   "base_numbering": 1,
   "nav_menu": {},
   "number_sections": true,
   "sideBar": true,
   "skip_h1_title": false,
   "title_cell": "Table of Contents",
   "title_sidebar": "Contents",
   "toc_cell": false,
   "toc_position": {
    "height": "calc(100% - 180px)",
    "left": "10px",
    "top": "150px",
    "width": "209px"
   },
   "toc_section_display": true,
   "toc_window_display": true
  },
  "varInspector": {
   "cols": {
    "lenName": 16,
    "lenType": 16,
    "lenVar": 40
   },
   "kernels_config": {
    "python": {
     "delete_cmd_postfix": "",
     "delete_cmd_prefix": "del ",
     "library": "var_list.py",
     "varRefreshCmd": "print(var_dic_list())"
    },
    "r": {
     "delete_cmd_postfix": ") ",
     "delete_cmd_prefix": "rm(",
     "library": "var_list.r",
     "varRefreshCmd": "cat(var_dic_list()) "
    }
   },
   "types_to_exclude": [
    "module",
    "function",
    "builtin_function_or_method",
    "instance",
    "_Feature"
   ],
   "window_display": false
  }
 },
 "nbformat": 4,
 "nbformat_minor": 2
}
